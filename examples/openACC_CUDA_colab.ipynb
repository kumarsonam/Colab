{
  "cells": [
    {
      "cell_type": "markdown",
      "metadata": {
        "id": "D6BqLpZjlzBM"
      },
      "source": [
        "# OpenACC-CUDA workshop"
      ]
    },
    {
      "cell_type": "code",
      "execution_count": null,
      "metadata": {
        "id": "8O5Zv1N5ovZi"
      },
      "outputs": [],
      "source": [
        "!pwd"
      ]
    },
    {
      "cell_type": "markdown",
      "metadata": {
        "id": "6WS9YBwSAsnf"
      },
      "source": [
        "## Activate GPU\n",
        "\n",
        "- To get access to a GPU, click on the *Runtime* menu and select *Change runtime type*. Choose GPU as a Hardware accelerator. It might take a minute for your notebook to connect to a GPU.\n",
        "- To check whether a GPU has been connected to your session, run the code cell below with the ``!nvidia-smi`` command by hitting ``SHIFT-ENTER`` on it."
      ]
    },
    {
      "cell_type": "code",
      "execution_count": null,
      "metadata": {
        "id": "dcgTx_OSAwA_"
      },
      "outputs": [],
      "source": [
        "!nvidia-smi"
      ]
    },
    {
      "cell_type": "markdown",
      "metadata": {
        "id": "xAPuix4SA3Vp"
      },
      "source": [
        "## Clone the material"
      ]
    },
    {
      "cell_type": "code",
      "execution_count": null,
      "metadata": {
        "id": "qJIpAOBWpHOx"
      },
      "outputs": [],
      "source": [
        "!git clone https://github.com/ENCCS/OpenACC-CUDA-beginners.git"
      ]
    },
    {
      "cell_type": "code",
      "execution_count": null,
      "metadata": {
        "id": "t44HqrHsls5x"
      },
      "outputs": [],
      "source": [
        "!ls"
      ]
    },
    {
      "cell_type": "markdown",
      "metadata": {
        "id": "CYF7lZ8RuipV"
      },
      "source": [
        "## Checkout out **colab_gcc** branch"
      ]
    },
    {
      "cell_type": "code",
      "execution_count": null,
      "metadata": {
        "id": "oN7xcztouuTs"
      },
      "outputs": [],
      "source": [
        "%cd OpenACC-CUDA-beginners\n",
        "!git checkout colab_gcc"
      ]
    },
    {
      "cell_type": "code",
      "execution_count": null,
      "metadata": {
        "id": "kq5nVvo2u-Is"
      },
      "outputs": [],
      "source": [
        "!git branch"
      ]
    },
    {
      "cell_type": "markdown",
      "metadata": {
        "id": "jeH9ThM7luF1"
      },
      "source": [
        "## OpenACC"
      ]
    },
    {
      "cell_type": "markdown",
      "metadata": {
        "id": "A6wNo7E9JF0D"
      },
      "source": [
        "### Hello World"
      ]
    },
    {
      "cell_type": "code",
      "execution_count": null,
      "metadata": {
        "id": "qf-7cP6EJdXD"
      },
      "outputs": [],
      "source": [
        "%cd /content/OpenACC-CUDA-beginners/examples/OpenACC/hello-world/"
      ]
    },
    {
      "cell_type": "code",
      "execution_count": null,
      "metadata": {
        "id": "dS3XhPJHKPy7"
      },
      "outputs": [],
      "source": [
        "!ls"
      ]
    },
    {
      "cell_type": "markdown",
      "metadata": {
        "id": "LknjXCxaKtLi"
      },
      "source": [
        "Compile and run C version"
      ]
    },
    {
      "cell_type": "code",
      "execution_count": null,
      "metadata": {
        "id": "EEuFYeB9KSV-"
      },
      "outputs": [],
      "source": [
        "!gcc -fopenacc -o hello_c hello.c"
      ]
    },
    {
      "cell_type": "code",
      "execution_count": null,
      "metadata": {
        "id": "iVzDTFLpKcSl"
      },
      "outputs": [],
      "source": [
        "!./hello_c"
      ]
    },
    {
      "cell_type": "markdown",
      "metadata": {
        "id": "dRFzmX4CKxyU"
      },
      "source": [
        "Compile and run Fortran version"
      ]
    },
    {
      "cell_type": "code",
      "execution_count": null,
      "metadata": {
        "id": "qeYvrnh4Kgvm"
      },
      "outputs": [],
      "source": [
        "!gfortran -fopenacc -o hello_f hello.F90"
      ]
    },
    {
      "cell_type": "code",
      "execution_count": null,
      "metadata": {
        "id": "x6cvbnA2KpAW"
      },
      "outputs": [],
      "source": [
        "!./hello_f"
      ]
    },
    {
      "cell_type": "code",
      "execution_count": null,
      "metadata": {
        "id": "SKb5JiRelM8_"
      },
      "outputs": [],
      "source": []
    },
    {
      "cell_type": "markdown",
      "metadata": {
        "id": "u1JryIrfJKsx"
      },
      "source": [
        "### Vector sum"
      ]
    },
    {
      "cell_type": "code",
      "execution_count": null,
      "metadata": {
        "id": "MpfFV2rlJeDm"
      },
      "outputs": [],
      "source": [
        "%cd /content/OpenACC-CUDA-beginners/examples/OpenACC/vector-sum/"
      ]
    },
    {
      "cell_type": "code",
      "execution_count": null,
      "metadata": {
        "id": "jp0kdq0KK6TN"
      },
      "outputs": [],
      "source": [
        "!ls"
      ]
    },
    {
      "cell_type": "code",
      "execution_count": null,
      "metadata": {
        "id": "bdYqsvUZLt2I"
      },
      "outputs": [],
      "source": [
        "# Pick either C or Fortran:\n",
        "%cd c\n",
        "#%cd F90\n",
        "# Have a look at the solutions:\n",
        "#%cd solution"
      ]
    },
    {
      "cell_type": "code",
      "execution_count": null,
      "metadata": {
        "id": "y-NzTX5DMJDP"
      },
      "outputs": [],
      "source": [
        "!make"
      ]
    },
    {
      "cell_type": "code",
      "execution_count": null,
      "metadata": {
        "id": "jISEzce5lM8_"
      },
      "outputs": [],
      "source": []
    },
    {
      "cell_type": "markdown",
      "metadata": {
        "id": "1mX93fR7JLBT"
      },
      "source": [
        "### Double loop"
      ]
    },
    {
      "cell_type": "code",
      "execution_count": null,
      "metadata": {
        "id": "-rCSF4vDJeqY"
      },
      "outputs": [],
      "source": [
        "%cd /content/OpenACC-CUDA-beginners/examples/OpenACC/doubleloop/"
      ]
    },
    {
      "cell_type": "code",
      "execution_count": null,
      "metadata": {
        "id": "n7GS97rTJrKR"
      },
      "outputs": [],
      "source": [
        "!ls"
      ]
    },
    {
      "cell_type": "code",
      "execution_count": null,
      "metadata": {
        "id": "Zj7HJKIPJk9h"
      },
      "outputs": [],
      "source": [
        "%cd c\n",
        "# Have a look at the solutions:\n",
        "#%cd solution"
      ]
    },
    {
      "cell_type": "code",
      "execution_count": null,
      "metadata": {
        "id": "4juwACcOKLFo"
      },
      "outputs": [],
      "source": []
    },
    {
      "cell_type": "markdown",
      "metadata": {
        "id": "PGlttDY0JOmj"
      },
      "source": [
        "### Jacobi"
      ]
    },
    {
      "cell_type": "code",
      "execution_count": null,
      "metadata": {
        "id": "tqkZAsiwJfZn"
      },
      "outputs": [],
      "source": [
        "%cd /content/OpenACC-CUDA-beginners/examples/OpenACC/jacobi/"
      ]
    },
    {
      "cell_type": "code",
      "execution_count": null,
      "metadata": {
        "id": "yoflwIAbJ3DI"
      },
      "outputs": [],
      "source": [
        "!ls"
      ]
    },
    {
      "cell_type": "code",
      "execution_count": null,
      "metadata": {
        "id": "Edy3_Jv2J9Tw"
      },
      "outputs": [],
      "source": [
        "%cd c\n",
        "# Have a look at the solutions:\n",
        "#%cd solution"
      ]
    },
    {
      "cell_type": "code",
      "execution_count": null,
      "metadata": {
        "id": "NDGwUzFzlM9A"
      },
      "outputs": [],
      "source": []
    },
    {
      "cell_type": "markdown",
      "metadata": {
        "id": "vGCtKAZ4mwPI"
      },
      "source": [
        "### $\\pi$ Monte Carlo"
      ]
    },
    {
      "cell_type": "code",
      "execution_count": null,
      "metadata": {
        "id": "f41pkQwPKAiP"
      },
      "outputs": [],
      "source": [
        "%cd /content/OpenACC-CUDA-beginners/examples/OpenACC/pi_monte_carlo/"
      ]
    },
    {
      "cell_type": "code",
      "execution_count": null,
      "metadata": {
        "id": "vUX3QJdvKAiQ"
      },
      "outputs": [],
      "source": [
        "!ls"
      ]
    },
    {
      "cell_type": "code",
      "execution_count": null,
      "metadata": {
        "id": "UB4m64NFKAiR"
      },
      "outputs": [],
      "source": [
        "%cd c\n",
        "# Have a look at the solutions:\n",
        "#%cd solution"
      ]
    },
    {
      "cell_type": "code",
      "execution_count": null,
      "metadata": {
        "id": "VSw2X2IBJgq5"
      },
      "outputs": [],
      "source": []
    },
    {
      "cell_type": "markdown",
      "metadata": {
        "id": "ZJt3FQPBJUda"
      },
      "source": [
        "### Heat equation"
      ]
    },
    {
      "cell_type": "code",
      "execution_count": null,
      "metadata": {
        "id": "UqNjOS6EKEVS"
      },
      "outputs": [],
      "source": [
        "%cd /content/OpenACC-CUDA-beginners/examples/OpenACC/HeatEquation/"
      ]
    },
    {
      "cell_type": "code",
      "execution_count": null,
      "metadata": {
        "id": "u_ZZN7eAKEVT"
      },
      "outputs": [],
      "source": [
        "!ls"
      ]
    },
    {
      "cell_type": "code",
      "execution_count": null,
      "metadata": {
        "id": "QA7FJ_i1KEVT"
      },
      "outputs": [],
      "source": [
        "%cd c\n",
        "# Have a look at the solutions:\n",
        "#%cd solution"
      ]
    },
    {
      "cell_type": "code",
      "execution_count": null,
      "metadata": {
        "id": "kG5dt_E7lM9E"
      },
      "outputs": [],
      "source": []
    },
    {
      "cell_type": "markdown",
      "metadata": {
        "id": "s4Pu7H4BwtH-"
      },
      "source": [
        "### Jacobi"
      ]
    },
    {
      "cell_type": "code",
      "execution_count": null,
      "metadata": {
        "id": "6zID0zDgwqcr"
      },
      "outputs": [],
      "source": [
        "%cd /content/OpenACC-CUDA-beginners/examples/OpenACC/jacobi/c"
      ]
    },
    {
      "cell_type": "code",
      "execution_count": null,
      "metadata": {
        "id": "e0fq0cNzw4X6"
      },
      "outputs": [],
      "source": [
        "# !gcc -g -O3 -fopenacc  jacobi.c -o jacobi  -lm\n",
        "!make"
      ]
    },
    {
      "cell_type": "code",
      "execution_count": null,
      "metadata": {
        "id": "Tlx3pneux7bi"
      },
      "outputs": [],
      "source": [
        "!./jacobi"
      ]
    },
    {
      "cell_type": "markdown",
      "metadata": {
        "id": "UizLm-2WyjRp"
      },
      "source": [
        "go to solution"
      ]
    },
    {
      "cell_type": "code",
      "execution_count": null,
      "metadata": {
        "id": "XZBqFWQbym-q"
      },
      "outputs": [],
      "source": [
        "%cd ../solution/c"
      ]
    },
    {
      "cell_type": "code",
      "execution_count": null,
      "metadata": {
        "id": "aS5vT-tMy2cO"
      },
      "outputs": [],
      "source": [
        "# !gcc -g -O3 -fopenacc  jacobi.c -o jacobi  -lm\n",
        "!make"
      ]
    },
    {
      "cell_type": "markdown",
      "metadata": {
        "id": "aPHXwSoRvwXF"
      },
      "source": [
        "### Heat equation"
      ]
    },
    {
      "cell_type": "code",
      "execution_count": null,
      "metadata": {
        "id": "jqGfrNx8PYU2"
      },
      "outputs": [],
      "source": [
        "%cd /content/OpenACC-CUDA-beginners/examples/OpenACC/HeatEquation/c"
      ]
    },
    {
      "cell_type": "code",
      "execution_count": null,
      "metadata": {
        "id": "G94izfiNPeRa"
      },
      "outputs": [],
      "source": [
        "!make"
      ]
    },
    {
      "cell_type": "code",
      "execution_count": null,
      "metadata": {
        "id": "Ig9W8EqJP6jS"
      },
      "outputs": [],
      "source": [
        "!./heat"
      ]
    },
    {
      "cell_type": "markdown",
      "metadata": {
        "id": "-8m2pVcVwC5r"
      },
      "source": [
        "go to solution"
      ]
    },
    {
      "cell_type": "code",
      "execution_count": null,
      "metadata": {
        "id": "9dYtyLuOwQB_"
      },
      "outputs": [],
      "source": [
        "%cd ../solution/c"
      ]
    },
    {
      "cell_type": "code",
      "execution_count": null,
      "metadata": {
        "id": "34alAFmXw8fG"
      },
      "outputs": [],
      "source": [
        "!gcc -fopenacc -o heat_equation_openacc_1 /content/OpenACC-CUDA-beginners/examples/OpenACC/HeatEquation/solution/c/heat_equation_openacc_1.c"
      ]
    },
    {
      "cell_type": "code",
      "execution_count": null,
      "metadata": {
        "id": "W7MlYgA2yioS"
      },
      "outputs": [],
      "source": [
        "!./heat_equation_openacc_1"
      ]
    },
    {
      "cell_type": "markdown",
      "metadata": {
        "id": "bAlNWf3blxI7"
      },
      "source": [
        "## CUDA"
      ]
    },
    {
      "cell_type": "markdown",
      "metadata": {
        "id": "x0By9cPCShlb"
      },
      "source": [
        "### DeviceList"
      ]
    },
    {
      "cell_type": "code",
      "execution_count": null,
      "metadata": {
        "id": "H_5pzYu-Sggk"
      },
      "outputs": [],
      "source": [
        "%cd /content/OpenACC-CUDA-beginners/examples/CUDA/DeviceList"
      ]
    },
    {
      "cell_type": "code",
      "execution_count": null,
      "metadata": {
        "id": "pWVOmVCcSmgJ"
      },
      "outputs": [],
      "source": [
        "!ls"
      ]
    },
    {
      "cell_type": "code",
      "execution_count": null,
      "metadata": {
        "id": "golBp4W-lM9G"
      },
      "outputs": [],
      "source": []
    },
    {
      "cell_type": "markdown",
      "metadata": {
        "id": "xuSTw5cuStTT"
      },
      "source": [
        "### VectorAdd"
      ]
    },
    {
      "cell_type": "code",
      "execution_count": null,
      "metadata": {
        "id": "Ns2t2GbtSsrZ"
      },
      "outputs": [],
      "source": [
        "%cd /content/OpenACC-CUDA-beginners/examples/CUDA/VectorAdd/"
      ]
    },
    {
      "cell_type": "code",
      "execution_count": null,
      "metadata": {
        "id": "JXdmoHspSz3l"
      },
      "outputs": [],
      "source": [
        "!ls"
      ]
    },
    {
      "cell_type": "code",
      "execution_count": null,
      "metadata": {
        "id": "t6Dy2TYGlM9G"
      },
      "outputs": [],
      "source": []
    },
    {
      "cell_type": "markdown",
      "metadata": {
        "id": "9FA3t0s5S5YP"
      },
      "source": [
        "### VectorDotProduct"
      ]
    },
    {
      "cell_type": "code",
      "execution_count": null,
      "metadata": {
        "id": "345b-WhYS5YP"
      },
      "outputs": [],
      "source": [
        "%cd /content/OpenACC-CUDA-beginners/examples/CUDA/VectorDotProduct/"
      ]
    },
    {
      "cell_type": "code",
      "execution_count": null,
      "metadata": {
        "id": "fZQMPQb4S5YQ"
      },
      "outputs": [],
      "source": [
        "!ls"
      ]
    },
    {
      "cell_type": "code",
      "execution_count": null,
      "metadata": {
        "id": "fUuHY9zNlM9G"
      },
      "outputs": [],
      "source": []
    },
    {
      "cell_type": "markdown",
      "metadata": {
        "id": "0vb8XjHUTA5W"
      },
      "source": [
        "### MatrixAdd"
      ]
    },
    {
      "cell_type": "code",
      "execution_count": null,
      "metadata": {
        "id": "eNTrxEEuTA5X"
      },
      "outputs": [],
      "source": [
        "%cd /content/OpenACC-CUDA-beginners/examples/CUDA/MatrixAdd/"
      ]
    },
    {
      "cell_type": "code",
      "execution_count": null,
      "metadata": {
        "id": "Hn5zEqJ5TA5Y"
      },
      "outputs": [],
      "source": [
        "!ls"
      ]
    },
    {
      "cell_type": "code",
      "execution_count": null,
      "metadata": {
        "id": "TV-qmxd6lM9G"
      },
      "outputs": [],
      "source": []
    },
    {
      "cell_type": "markdown",
      "metadata": {
        "id": "kjmBGwtqTGyz"
      },
      "source": [
        "### Heat Equation"
      ]
    },
    {
      "cell_type": "code",
      "execution_count": null,
      "metadata": {
        "id": "boUhbj-sTGyz"
      },
      "outputs": [],
      "source": [
        "%cd /content/OpenACC-CUDA-beginners/examples/CUDA/HeatEquation/"
      ]
    },
    {
      "cell_type": "code",
      "execution_count": null,
      "metadata": {
        "id": "pYdj-TOcTGy0"
      },
      "outputs": [],
      "source": [
        "!ls"
      ]
    },
    {
      "cell_type": "code",
      "execution_count": null,
      "metadata": {
        "id": "wc5d7zXGpxfv"
      },
      "outputs": [],
      "source": []
    }
  ],
  "metadata": {
    "accelerator": "GPU",
    "colab": {
      "name": "Copy of openACC_CUDA_colab.ipynb",
      "provenance": [],
      "toc_visible": true
    },
    "kernelspec": {
      "display_name": "Python 3",
      "language": "python",
      "name": "python3"
    },
    "language_info": {
      "codemirror_mode": {
        "name": "ipython",
        "version": 3
      },
      "file_extension": ".py",
      "mimetype": "text/x-python",
      "name": "python",
      "nbconvert_exporter": "python",
      "pygments_lexer": "ipython3",
      "version": "3.8.5"
    }
  },
  "nbformat": 4,
  "nbformat_minor": 0
}