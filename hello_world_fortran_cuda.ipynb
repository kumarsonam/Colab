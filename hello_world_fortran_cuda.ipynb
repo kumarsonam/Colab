{
  "nbformat": 4,
  "nbformat_minor": 0,
  "metadata": {
    "colab": {
      "provenance": [],
      "gpuType": "T4",
      "authorship_tag": "ABX9TyM8PENppEMgGrpzdDMAjTS5",
      "include_colab_link": true
    },
    "kernelspec": {
      "name": "python3",
      "display_name": "Python 3"
    },
    "language_info": {
      "name": "python"
    },
    "accelerator": "GPU"
  },
  "cells": [
    {
      "cell_type": "markdown",
      "metadata": {
        "id": "view-in-github",
        "colab_type": "text"
      },
      "source": [
        "<a href=\"https://colab.research.google.com/github/kumarsonam/Colab/blob/main/hello_world_fortran_cuda.ipynb\" target=\"_parent\"><img src=\"https://colab.research.google.com/assets/colab-badge.svg\" alt=\"Open In Colab\"/></a>"
      ]
    },
    {
      "cell_type": "code",
      "execution_count": 1,
      "metadata": {
        "colab": {
          "base_uri": "https://localhost:8080/"
        },
        "id": "khDKkI_IoNJ9",
        "outputId": "44649295-995f-4cf1-864d-7b33ef86ba04"
      },
      "outputs": [
        {
          "output_type": "stream",
          "name": "stdout",
          "text": [
            "/content\n"
          ]
        }
      ],
      "source": [
        "!pwd"
      ]
    },
    {
      "cell_type": "code",
      "source": [
        "!nvidia-smi"
      ],
      "metadata": {
        "colab": {
          "base_uri": "https://localhost:8080/"
        },
        "id": "kYd0fwppojy6",
        "outputId": "c4786dc7-cfa4-4929-d4cc-c28b37dd47eb"
      },
      "execution_count": 2,
      "outputs": [
        {
          "output_type": "stream",
          "name": "stdout",
          "text": [
            "Fri Jan  5 21:58:15 2024       \n",
            "+---------------------------------------------------------------------------------------+\n",
            "| NVIDIA-SMI 535.104.05             Driver Version: 535.104.05   CUDA Version: 12.2     |\n",
            "|-----------------------------------------+----------------------+----------------------+\n",
            "| GPU  Name                 Persistence-M | Bus-Id        Disp.A | Volatile Uncorr. ECC |\n",
            "| Fan  Temp   Perf          Pwr:Usage/Cap |         Memory-Usage | GPU-Util  Compute M. |\n",
            "|                                         |                      |               MIG M. |\n",
            "|=========================================+======================+======================|\n",
            "|   0  Tesla T4                       Off | 00000000:00:04.0 Off |                    0 |\n",
            "| N/A   44C    P8               9W /  70W |      0MiB / 15360MiB |      0%      Default |\n",
            "|                                         |                      |                  N/A |\n",
            "+-----------------------------------------+----------------------+----------------------+\n",
            "                                                                                         \n",
            "+---------------------------------------------------------------------------------------+\n",
            "| Processes:                                                                            |\n",
            "|  GPU   GI   CI        PID   Type   Process name                            GPU Memory |\n",
            "|        ID   ID                                                             Usage      |\n",
            "|=======================================================================================|\n",
            "|  No running processes found                                                           |\n",
            "+---------------------------------------------------------------------------------------+\n"
          ]
        }
      ]
    },
    {
      "cell_type": "code",
      "source": [
        "!git clone https://github.com/ENCCS/OpenACC-CUDA-beginners.git"
      ],
      "metadata": {
        "colab": {
          "base_uri": "https://localhost:8080/"
        },
        "id": "Ikhv3G1IolhS",
        "outputId": "3046cf8f-7ee8-423f-ce5b-35584c0aefbb"
      },
      "execution_count": 3,
      "outputs": [
        {
          "output_type": "stream",
          "name": "stdout",
          "text": [
            "Cloning into 'OpenACC-CUDA-beginners'...\n",
            "remote: Enumerating objects: 1380, done.\u001b[K\n",
            "remote: Counting objects: 100% (50/50), done.\u001b[K\n",
            "remote: Compressing objects: 100% (23/23), done.\u001b[K\n",
            "remote: Total 1380 (delta 30), reused 27 (delta 27), pack-reused 1330\u001b[K\n",
            "Receiving objects: 100% (1380/1380), 14.09 MiB | 27.69 MiB/s, done.\n",
            "Resolving deltas: 100% (677/677), done.\n"
          ]
        }
      ]
    },
    {
      "cell_type": "code",
      "source": [
        "%cd /content/OpenACC-CUDA-beginners/examples/OpenACC/hello-world/"
      ],
      "metadata": {
        "colab": {
          "base_uri": "https://localhost:8080/"
        },
        "id": "24wycVe4ows0",
        "outputId": "a9ffbbc0-186b-4b32-d3d4-93b85857134d"
      },
      "execution_count": 4,
      "outputs": [
        {
          "output_type": "stream",
          "name": "stdout",
          "text": [
            "/content/OpenACC-CUDA-beginners/examples/OpenACC/hello-world\n"
          ]
        }
      ]
    },
    {
      "cell_type": "code",
      "source": [
        "!ls"
      ],
      "metadata": {
        "colab": {
          "base_uri": "https://localhost:8080/"
        },
        "id": "q6lQ0K5Qo36f",
        "outputId": "7ef6cdd8-1a7f-44a9-b786-f601cdf37a86"
      },
      "execution_count": 5,
      "outputs": [
        {
          "output_type": "stream",
          "name": "stdout",
          "text": [
            "compile.sh  hello.c  hello.F90\tjob.sh\n"
          ]
        }
      ]
    },
    {
      "cell_type": "code",
      "source": [
        "!gcc -fopenacc -o hello_c hello.c"
      ],
      "metadata": {
        "id": "32Ecn24Uo5vT"
      },
      "execution_count": 6,
      "outputs": []
    },
    {
      "cell_type": "code",
      "source": [
        "!./hello_c"
      ],
      "metadata": {
        "colab": {
          "base_uri": "https://localhost:8080/"
        },
        "id": "F55RCoXxpAKx",
        "outputId": "08ec2c29-1085-46b0-a459-b84c621e9772"
      },
      "execution_count": 7,
      "outputs": [
        {
          "output_type": "stream",
          "name": "stdout",
          "text": [
            "Hello world from OpenACC\n",
            "Number of available OpenACC devices: 1\n",
            "Type of available OpenACC devices: 2\n"
          ]
        }
      ]
    },
    {
      "cell_type": "code",
      "source": [
        "!cat hello.c\n"
      ],
      "metadata": {
        "colab": {
          "base_uri": "https://localhost:8080/"
        },
        "id": "pZCWKpgypCzZ",
        "outputId": "9abdaaf7-56b7-422d-df84-4856cf57a49a"
      },
      "execution_count": 8,
      "outputs": [
        {
          "output_type": "stream",
          "name": "stdout",
          "text": [
            "#include <stdio.h>\n",
            "#ifdef _OPENACC\n",
            "#include <openacc.h>\n",
            "#endif\n",
            "\n",
            "int main(void) {\n",
            "#ifdef _OPENACC\n",
            "  acc_device_t devtype;\n",
            "#endif\n",
            "\n",
            "  printf(\"Hello world from OpenACC\\n\");\n",
            "#ifdef _OPENACC\n",
            "  devtype = acc_get_device_type();\n",
            "  printf(\"Number of available OpenACC devices: %d\\n\", acc_get_num_devices(devtype));\n",
            "  printf(\"Type of available OpenACC devices: %d\\n\", devtype);\n",
            "#else\n",
            "  printf(\"Code compiled without OpenACC\\n\");\n",
            "#endif\n",
            "\n",
            "  return 0;\n",
            "}\n"
          ]
        }
      ]
    },
    {
      "cell_type": "code",
      "source": [
        "!cat hello.F90\n"
      ],
      "metadata": {
        "colab": {
          "base_uri": "https://localhost:8080/"
        },
        "id": "11YoN67FpGT8",
        "outputId": "3040bb93-c700-4340-cd1d-260be4705e21"
      },
      "execution_count": 9,
      "outputs": [
        {
          "output_type": "stream",
          "name": "stdout",
          "text": [
            "program hello\n",
            "#ifdef _OPENACC\n",
            "  use openacc\n",
            "#endif\n",
            "  implicit none\n",
            "#ifdef _OPENACC\n",
            "  integer(acc_device_kind) :: devkind\n",
            "#endif\n",
            "\n",
            "  write (*,*) 'Hello world from OpenACC'\n",
            "#ifdef _OPENACC\n",
            "  devkind = acc_get_device_type()\n",
            "  write (*,'(A,X,I0)') 'Number of available OpenACC devices:', acc_get_num_devices(devkind)\n",
            "  write (*,'(A,X,I0)') 'Type of available OpenACC devices:', devkind\n",
            "#else\n",
            "  write (*,*) 'Code compiled without OpenACC'\n",
            "#endif\n",
            "\n",
            "end program hello\n"
          ]
        }
      ]
    },
    {
      "cell_type": "code",
      "source": [
        "!gfortran -fopenacc -o hello_f hello.F90"
      ],
      "metadata": {
        "id": "2Qls_RcIpLVf"
      },
      "execution_count": 10,
      "outputs": []
    },
    {
      "cell_type": "code",
      "source": [
        "!./hello_f"
      ],
      "metadata": {
        "colab": {
          "base_uri": "https://localhost:8080/"
        },
        "id": "FS9CoAjOpQKT",
        "outputId": "9f22cb9b-3fb0-4cbb-e9cd-f2e3d3c1a47b"
      },
      "execution_count": 11,
      "outputs": [
        {
          "output_type": "stream",
          "name": "stdout",
          "text": [
            " Hello world from OpenACC\n",
            "Number of available OpenACC devices: 1\n",
            "Type of available OpenACC devices: 2\n"
          ]
        }
      ]
    }
  ]
}