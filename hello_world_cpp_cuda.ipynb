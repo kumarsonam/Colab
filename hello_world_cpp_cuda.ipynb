{
  "nbformat": 4,
  "nbformat_minor": 0,
  "metadata": {
    "colab": {
      "provenance": [],
      "gpuType": "T4",
      "authorship_tag": "ABX9TyPNgcrK0vkWF3pV1f/Q1Nns",
      "include_colab_link": true
    },
    "kernelspec": {
      "name": "python3",
      "display_name": "Python 3"
    },
    "language_info": {
      "name": "python"
    },
    "accelerator": "GPU"
  },
  "cells": [
    {
      "cell_type": "markdown",
      "metadata": {
        "id": "view-in-github",
        "colab_type": "text"
      },
      "source": [
        "<a href=\"https://colab.research.google.com/github/kumarsonam/Colab/blob/main/hello_world_cpp_cuda.ipynb\" target=\"_parent\"><img src=\"https://colab.research.google.com/assets/colab-badge.svg\" alt=\"Open In Colab\"/></a>"
      ]
    },
    {
      "cell_type": "code",
      "execution_count": 1,
      "metadata": {
        "colab": {
          "base_uri": "https://localhost:8080/"
        },
        "id": "0OR0LXNWQeU2",
        "outputId": "8eb9f245-29f6-456a-9207-18c28d4eb832"
      },
      "outputs": [
        {
          "output_type": "stream",
          "name": "stdout",
          "text": [
            "nvcc: NVIDIA (R) Cuda compiler driver\n",
            "Copyright (c) 2005-2023 NVIDIA Corporation\n",
            "Built on Tue_Aug_15_22:02:13_PDT_2023\n",
            "Cuda compilation tools, release 12.2, V12.2.140\n",
            "Build cuda_12.2.r12.2/compiler.33191640_0\n"
          ]
        }
      ],
      "source": [
        "!nvcc --version\n"
      ]
    },
    {
      "cell_type": "code",
      "source": [
        "!pip install git+https://github.com/andreinechaev/nvcc4jupyter.git\n"
      ],
      "metadata": {
        "colab": {
          "base_uri": "https://localhost:8080/"
        },
        "id": "YcdScK9MSOrx",
        "outputId": "5631e772-d1c7-4c53-c0b9-0be659368bb3"
      },
      "execution_count": 2,
      "outputs": [
        {
          "output_type": "stream",
          "name": "stdout",
          "text": [
            "Collecting git+https://github.com/andreinechaev/nvcc4jupyter.git\n",
            "  Cloning https://github.com/andreinechaev/nvcc4jupyter.git to /tmp/pip-req-build-vtqhybd4\n",
            "  Running command git clone --filter=blob:none --quiet https://github.com/andreinechaev/nvcc4jupyter.git /tmp/pip-req-build-vtqhybd4\n",
            "  Resolved https://github.com/andreinechaev/nvcc4jupyter.git to commit 0d2ab99cccbbc682722e708515fe9c4cfc50185a\n",
            "  Preparing metadata (setup.py) ... \u001b[?25l\u001b[?25hdone\n",
            "Building wheels for collected packages: NVCCPlugin\n",
            "  Building wheel for NVCCPlugin (setup.py) ... \u001b[?25l\u001b[?25hdone\n",
            "  Created wheel for NVCCPlugin: filename=NVCCPlugin-0.0.2-py3-none-any.whl size=4716 sha256=ea8bdd036a976740380b4c7bcd6b6f552faafaa0c6f718605cc8011cf90b296b\n",
            "  Stored in directory: /tmp/pip-ephem-wheel-cache-tie_8jy4/wheels/a8/b9/18/23f8ef71ceb0f63297dd1903aedd067e6243a68ea756d6feea\n",
            "Successfully built NVCCPlugin\n",
            "Installing collected packages: NVCCPlugin\n",
            "Successfully installed NVCCPlugin-0.0.2\n"
          ]
        }
      ]
    },
    {
      "cell_type": "code",
      "source": [
        "%load_ext nvcc_plugin\n"
      ],
      "metadata": {
        "colab": {
          "base_uri": "https://localhost:8080/"
        },
        "id": "stzU-ueKSYMS",
        "outputId": "001ecac7-82a4-42c7-b257-b2a470f96d9b"
      },
      "execution_count": 3,
      "outputs": [
        {
          "output_type": "stream",
          "name": "stdout",
          "text": [
            "created output directory at /content/src\n",
            "Out bin /content/result.out\n"
          ]
        }
      ]
    },
    {
      "cell_type": "code",
      "source": [
        "%%cu\n",
        "#include <iostream>\n",
        "    int\n",
        "    main()\n",
        "{\n",
        "    std::cout << \"Welcome To GeeksforGeeks\\n\";\n",
        "    return 0;\n",
        "}"
      ],
      "metadata": {
        "colab": {
          "base_uri": "https://localhost:8080/"
        },
        "id": "mhwa5mfTSfN_",
        "outputId": "54ad7026-de5f-468a-f812-4aefff26d2b1"
      },
      "execution_count": 4,
      "outputs": [
        {
          "output_type": "stream",
          "name": "stdout",
          "text": [
            "Welcome To GeeksforGeeks\n",
            "\n"
          ]
        }
      ]
    },
    {
      "cell_type": "code",
      "source": [
        "!apt-get install -y libthrust-dev\n"
      ],
      "metadata": {
        "colab": {
          "base_uri": "https://localhost:8080/"
        },
        "id": "yK0Nw6_6Vdqb",
        "outputId": "65b31192-c1ed-4553-ae29-b6cce6595c51"
      },
      "execution_count": 14,
      "outputs": [
        {
          "output_type": "stream",
          "name": "stdout",
          "text": [
            "Reading package lists... Done\n",
            "Building dependency tree... Done\n",
            "Reading state information... Done\n",
            "The following additional packages will be installed:\n",
            "  libcub-dev\n",
            "Suggested packages:\n",
            "  nvidia-cuda-toolkit\n",
            "The following NEW packages will be installed:\n",
            "  libcub-dev libthrust-dev\n",
            "0 upgraded, 2 newly installed, 0 to remove and 24 not upgraded.\n",
            "Need to get 639 kB of archives.\n",
            "After this operation, 8,233 kB of additional disk space will be used.\n",
            "Get:1 http://archive.ubuntu.com/ubuntu jammy/universe amd64 libcub-dev all 1.15.0-3 [217 kB]\n",
            "Get:2 http://archive.ubuntu.com/ubuntu jammy/multiverse amd64 libthrust-dev all 1.15.0-1 [423 kB]\n",
            "Fetched 639 kB in 1s (877 kB/s)\n",
            "Selecting previously unselected package libcub-dev.\n",
            "(Reading database ... 121654 files and directories currently installed.)\n",
            "Preparing to unpack .../libcub-dev_1.15.0-3_all.deb ...\n",
            "Unpacking libcub-dev (1.15.0-3) ...\n",
            "Selecting previously unselected package libthrust-dev.\n",
            "Preparing to unpack .../libthrust-dev_1.15.0-1_all.deb ...\n",
            "Unpacking libthrust-dev (1.15.0-1) ...\n",
            "Setting up libcub-dev (1.15.0-3) ...\n",
            "Setting up libthrust-dev (1.15.0-1) ...\n"
          ]
        }
      ]
    },
    {
      "cell_type": "code",
      "source": [
        "%%cu\n",
        "#include <stdio.h>\n",
        "\n",
        "__global__ void helloCUDA() {\n",
        "    printf(\"Hello, CUDA World using ChatGPT!\\n\");\n",
        "}\n",
        "\n",
        "int main() {\n",
        "    // Launch the helloCUDA kernel on the GPU\n",
        "    helloCUDA<<<1, 1>>>();\n",
        "\n",
        "    // Wait for GPU to finish before exiting\n",
        "    cudaDeviceSynchronize();\n",
        "\n",
        "    return 0;\n",
        "}"
      ],
      "metadata": {
        "colab": {
          "base_uri": "https://localhost:8080/"
        },
        "id": "noQqQAuLWsRS",
        "outputId": "2a228045-193a-45d5-f8d5-b2bc1a360f3f"
      },
      "execution_count": 18,
      "outputs": [
        {
          "output_type": "stream",
          "name": "stdout",
          "text": [
            "Hello, CUDA World using ChatGPT!\n",
            "\n"
          ]
        }
      ]
    },
    {
      "cell_type": "code",
      "source": [
        "%%cu\n",
        "#include <stdio.h>\n",
        "\n",
        "__global__ void findMax(int* input, int* output, int size) {\n",
        "    int tid = threadIdx.x;\n",
        "\n",
        "    // Allocate shared memory\n",
        "    extern __shared__ int shared_mem[];\n",
        "\n",
        "    // Initialize shared memory\n",
        "    if (tid < size) {\n",
        "        shared_mem[tid] = input[tid];\n",
        "    } else {\n",
        "        shared_mem[tid] = 0;  // Initialize to a reasonable default value\n",
        "    }\n",
        "\n",
        "    // Synchronize threads\n",
        "    __syncthreads();\n",
        "\n",
        "    // Reduction to find the maximum element\n",
        "    for (int stride = 1; stride < blockDim.x; stride *= 2) {\n",
        "        int index = 2 * stride * tid;\n",
        "        if (index < blockDim.x) {\n",
        "            int temp = shared_mem[index + stride];\n",
        "            if (temp > shared_mem[index]) {\n",
        "                shared_mem[index] = temp;\n",
        "            }\n",
        "        }\n",
        "        __syncthreads();\n",
        "    }\n",
        "\n",
        "    // Store the result in the output array\n",
        "    if (tid == 0) {\n",
        "        *output = shared_mem[0];\n",
        "    }\n",
        "}\n",
        "\n",
        "int main() {\n",
        "    // Vector size\n",
        "    int size = 10;\n",
        "\n",
        "    // Host vector\n",
        "    int host_vector[] = {4, 2, 8, 5, 1, 7, 9, 3, 6, 10};\n",
        "\n",
        "    // Device vectors\n",
        "    int* dev_input;\n",
        "    int* dev_output;\n",
        "\n",
        "    // Allocate memory on the GPU\n",
        "    cudaMalloc((void**)&dev_input, size * sizeof(int));\n",
        "    cudaMalloc((void**)&dev_output, sizeof(int));\n",
        "\n",
        "    // Copy data from host to device\n",
        "    cudaMemcpy(dev_input, host_vector, size * sizeof(int), cudaMemcpyHostToDevice);\n",
        "\n",
        "    // Launch the findMax kernel on the GPU\n",
        "    findMax<<<1, size, size * sizeof(int)>>>(dev_input, dev_output, size);\n",
        "\n",
        "    // Wait for GPU to finish before retrieving results\n",
        "    cudaDeviceSynchronize();\n",
        "\n",
        "    // Copy the result back to the host\n",
        "    int result;\n",
        "    cudaMemcpy(&result, dev_output, sizeof(int), cudaMemcpyDeviceToHost);\n",
        "\n",
        "    // Print the result\n",
        "    printf(\"Maximum element: %d\\n\", result);\n",
        "\n",
        "    // Free allocated memory on the GPU\n",
        "    cudaFree(dev_input);\n",
        "    cudaFree(dev_output);\n",
        "\n",
        "    return 0;\n",
        "}"
      ],
      "metadata": {
        "colab": {
          "base_uri": "https://localhost:8080/"
        },
        "id": "JbNKXYqbW0QS",
        "outputId": "df1c4e75-9e75-455d-ea1c-cd8b0b446a1e"
      },
      "execution_count": 19,
      "outputs": [
        {
          "output_type": "stream",
          "name": "stdout",
          "text": [
            "Maximum element: 10\n",
            "\n"
          ]
        }
      ]
    }
  ]
}